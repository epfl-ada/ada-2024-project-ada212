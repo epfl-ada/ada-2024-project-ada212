{
 "cells": [
  {
   "cell_type": "markdown",
   "metadata": {},
   "source": [
    "# From Page to Screen – The Journey and Success of Book Adaptations\n",
    "\n",
    "## The Origins: What Books Capture the Attention of Filmmakers?\n",
    "\n",
    "### Research Question: What traits in books make them attractive for adaptation?\n",
    "This section sets the stage for understanding why certain books are chosen for adaptation, offering insights into industry preferences.\n",
    "\n",
    "**Analysis and Approaches**:\n",
    "- Explore the dataset to identify common characteristics among adapted books (e.g., genre, length, ratings).\n",
    "- Conduct correlation analysis to pinpoint book features (e.g., ratings, page count) that correlate with adaptation likelihood.\n",
    "- Use a Random Forest Regressor to highlight the importance of book features (e.g., page count, genre, ratings) in predicting the success of adaptations.\n",
    "- Implement logistic regression to predict whether a book adaptation will be successful (e.g., revenue above a median value or IMDb rating above a defined score).\n",
    "\n",
    "## The Path to Adaptation: What Factors Influence Adaptation Time?\n",
    "\n",
    "### Research Question: How long does it take for a popular book to become a movie, and what influences this timeline?\n",
    "This analysis maps out the journey from book publication to movie release, exploring factors that may accelerate or delay this process.\n",
    "\n",
    "**Analysis and Approaches**:\n",
    "- Use Kaplan-Meier estimators to visualize the “survival” rate of books over time (i.e., how likely they are to be adapted within certain periods).\n",
    "\n",
    "### Research Question: Are there seasonal patterns in the release of book adaptations?\n",
    "Investigate if the timing of movie releases contributes to their success and align release seasons with peak box office periods.\n",
    "\n",
    "**Analysis and Approaches**:\n",
    "- Visualize release dates and examine correlations with box office performance using bar charts and time series analysis.\n",
    "\n",
    "## The Grand Premiere: Measuring the Success of Adaptations\n",
    "\n",
    "### Research Question: What elements predict the success of a movie adaptation?\n",
    "This section reveals the results of a book-to-movie transformation and what predicts box office hits or critical duds.\n",
    "\n",
    "**Analysis and Approaches**:\n",
    "- Model the relationship between book characteristics (e.g., genre, ratings) and movie success metrics (e.g., box office revenue, IMDb ratings) using correlation analysis.\n",
    "- Compare the performance of movie adaptations with original movies to assess differences in success rates.\n",
    "\n",
    "### Research Question: How has the popularity and financial success of book adaptations evolved over time?\n",
    "Explore the distribution and financial trends of adaptations over different decades.\n",
    "\n",
    "**Analysis and Approaches**:\n",
    "- Use time series analysis and decade-wise comparisons, employing line plots and bar charts to illustrate trends over time.\n",
    "\n",
    "## The Global Reception: Do Adaptations Translate Well Across Borders?\n",
    "\n",
    "### Research Question: How do movie adaptations perform internationally, and are adaptations from certain countries more successful?\n",
    "This part of the story focuses on how adaptations are received globally, adding depth to the idea of international market success.\n",
    "\n",
    "**Analysis and Approaches**:\n",
    "- Create geographic visualizations (e.g., maps) to depict the performance of adaptations by country.\n",
    "- Use audience review data to compare the reception of adaptations in different regions.\n",
    "\n",
    "## The Budget and Investment Dilemma: Does Spending More Pay Off?\n",
    "\n",
    "### Research Question: Is there a direct correlation between the budget of an adaptation and its financial and critical success?\n",
    "This section emphasizes the financial aspect of adaptations, discussing when investment leads to success and when it may not.\n",
    "\n",
    "**Analysis and Approaches**:\n",
    "- Use scatter plots and regression models to show relationships between budget size, revenue, and critical success.\n",
    "- Calculate ROI using the formula \\( ROI = \\frac{\\text{Revenue} - \\text{Budget}}{\\text{Budget}} \\) and visualize the distribution using kernel density plots.\n",
    "\n",
    "## Plot Twist: Unexpected Success Stories\n",
    "\n",
    "### Research Question: Which book adaptations outperformed expectations despite low initial ratings or budgets?\n",
    "Explore cases of unexpectedly successful adaptations to reveal hidden gems in the data.\n",
    "\n",
    "**Analysis and Approaches**:\n",
    "- Identify adaptations with high budget-to-revenue ratios and analyze their attributes for common factors contributing to their success.\n"
   ]
  },
  {
   "cell_type": "markdown",
   "metadata": {},
   "source": []
  },
  {
   "cell_type": "code",
   "execution_count": null,
   "outputs": [],
   "source": [],
   "metadata": {
    "collapsed": false
   }
  }
 ],
 "metadata": {
  "language_info": {
   "name": "python"
  }
 },
 "nbformat": 4,
 "nbformat_minor": 2
}
