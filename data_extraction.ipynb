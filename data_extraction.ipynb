{
 "cells": [
  {
   "cell_type": "code",
   "execution_count": 1,
   "outputs": [
    {
     "name": "stdout",
     "output_type": "stream",
     "text": [
      "Requirement already satisfied: wikimapper in /Users/ghaliabennani/anaconda3/lib/python3.11/site-packages (0.2.0)\r\n",
      "Note: you may need to restart the kernel to use updated packages.\n"
     ]
    }
   ],
   "source": [
    "pip install wikimapper"
   ],
   "metadata": {
    "collapsed": false,
    "ExecuteTime": {
     "end_time": "2024-11-13T21:12:24.396787Z",
     "start_time": "2024-11-13T21:12:22.807247Z"
    }
   },
   "id": "d43e0a56f5f5b2fa"
  },
  {
   "cell_type": "code",
   "execution_count": 2,
   "outputs": [
    {
     "name": "stdout",
     "output_type": "stream",
     "text": [
      "Requirement already satisfied: datapackage in /Users/ghaliabennani/anaconda3/lib/python3.11/site-packages (1.15.4)\r\n",
      "Requirement already satisfied: six>=1.10 in /Users/ghaliabennani/anaconda3/lib/python3.11/site-packages (from datapackage) (1.16.0)\r\n",
      "Requirement already satisfied: click>=6.7 in /Users/ghaliabennani/anaconda3/lib/python3.11/site-packages (from datapackage) (8.1.7)\r\n",
      "Requirement already satisfied: chardet>=3.0 in /Users/ghaliabennani/anaconda3/lib/python3.11/site-packages (from datapackage) (4.0.0)\r\n",
      "Requirement already satisfied: requests>=2.8 in /Users/ghaliabennani/anaconda3/lib/python3.11/site-packages (from datapackage) (2.32.3)\r\n",
      "Requirement already satisfied: jsonschema>=2.5 in /Users/ghaliabennani/anaconda3/lib/python3.11/site-packages (from datapackage) (4.19.2)\r\n",
      "Requirement already satisfied: unicodecsv>=0.14 in /Users/ghaliabennani/anaconda3/lib/python3.11/site-packages (from datapackage) (0.14.1)\r\n",
      "Requirement already satisfied: jsonpointer>=1.10 in /Users/ghaliabennani/anaconda3/lib/python3.11/site-packages (from datapackage) (2.1)\r\n",
      "Requirement already satisfied: tableschema>=1.20.4 in /Users/ghaliabennani/anaconda3/lib/python3.11/site-packages (from datapackage) (1.20.11)\r\n",
      "Requirement already satisfied: dataflows-tabulator>=1.29 in /Users/ghaliabennani/anaconda3/lib/python3.11/site-packages (from datapackage) (1.54.3)\r\n",
      "Requirement already satisfied: boto3>=1.9 in /Users/ghaliabennani/anaconda3/lib/python3.11/site-packages (from dataflows-tabulator>=1.29->datapackage) (1.35.54)\r\n",
      "Requirement already satisfied: ijson>=3.0.3 in /Users/ghaliabennani/anaconda3/lib/python3.11/site-packages (from dataflows-tabulator>=1.29->datapackage) (3.3.0)\r\n",
      "Requirement already satisfied: jsonlines>=1.1 in /Users/ghaliabennani/anaconda3/lib/python3.11/site-packages (from dataflows-tabulator>=1.29->datapackage) (4.0.0)\r\n",
      "Requirement already satisfied: sqlalchemy>=0.9.6 in /Users/ghaliabennani/anaconda3/lib/python3.11/site-packages (from dataflows-tabulator>=1.29->datapackage) (2.0.34)\r\n",
      "Requirement already satisfied: linear-tsv>=1.0 in /Users/ghaliabennani/anaconda3/lib/python3.11/site-packages (from dataflows-tabulator>=1.29->datapackage) (1.1.0)\r\n",
      "Requirement already satisfied: xlrd>=1.0 in /Users/ghaliabennani/anaconda3/lib/python3.11/site-packages (from dataflows-tabulator>=1.29->datapackage) (2.0.1)\r\n",
      "Requirement already satisfied: openpyxl>=2.6 in /Users/ghaliabennani/anaconda3/lib/python3.11/site-packages (from dataflows-tabulator>=1.29->datapackage) (3.1.5)\r\n",
      "Requirement already satisfied: attrs>=22.2.0 in /Users/ghaliabennani/anaconda3/lib/python3.11/site-packages (from jsonschema>=2.5->datapackage) (23.1.0)\r\n",
      "Requirement already satisfied: jsonschema-specifications>=2023.03.6 in /Users/ghaliabennani/anaconda3/lib/python3.11/site-packages (from jsonschema>=2.5->datapackage) (2023.7.1)\r\n",
      "Requirement already satisfied: referencing>=0.28.4 in /Users/ghaliabennani/anaconda3/lib/python3.11/site-packages (from jsonschema>=2.5->datapackage) (0.30.2)\r\n",
      "Requirement already satisfied: rpds-py>=0.7.1 in /Users/ghaliabennani/anaconda3/lib/python3.11/site-packages (from jsonschema>=2.5->datapackage) (0.10.6)\r\n",
      "Requirement already satisfied: charset-normalizer<4,>=2 in /Users/ghaliabennani/anaconda3/lib/python3.11/site-packages (from requests>=2.8->datapackage) (3.3.2)\r\n",
      "Requirement already satisfied: idna<4,>=2.5 in /Users/ghaliabennani/anaconda3/lib/python3.11/site-packages (from requests>=2.8->datapackage) (3.7)\r\n",
      "Requirement already satisfied: urllib3<3,>=1.21.1 in /Users/ghaliabennani/anaconda3/lib/python3.11/site-packages (from requests>=2.8->datapackage) (2.2.2)\r\n",
      "Requirement already satisfied: certifi>=2017.4.17 in /Users/ghaliabennani/anaconda3/lib/python3.11/site-packages (from requests>=2.8->datapackage) (2024.8.30)\r\n",
      "Requirement already satisfied: cached-property>=1.5 in /Users/ghaliabennani/anaconda3/lib/python3.11/site-packages (from tableschema>=1.20.4->datapackage) (2.0.1)\r\n",
      "Requirement already satisfied: python-dateutil>=2.4 in /Users/ghaliabennani/anaconda3/lib/python3.11/site-packages (from tableschema>=1.20.4->datapackage) (2.9.0.post0)\r\n",
      "Requirement already satisfied: isodate>=0.5.4 in /Users/ghaliabennani/anaconda3/lib/python3.11/site-packages (from tableschema>=1.20.4->datapackage) (0.7.2)\r\n",
      "Requirement already satisfied: rfc3986>=1.1.0 in /Users/ghaliabennani/anaconda3/lib/python3.11/site-packages (from tableschema>=1.20.4->datapackage) (2.0.0)\r\n",
      "Requirement already satisfied: botocore<1.36.0,>=1.35.54 in /Users/ghaliabennani/anaconda3/lib/python3.11/site-packages (from boto3>=1.9->dataflows-tabulator>=1.29->datapackage) (1.35.54)\r\n",
      "Requirement already satisfied: jmespath<2.0.0,>=0.7.1 in /Users/ghaliabennani/anaconda3/lib/python3.11/site-packages (from boto3>=1.9->dataflows-tabulator>=1.29->datapackage) (1.0.1)\r\n",
      "Requirement already satisfied: s3transfer<0.11.0,>=0.10.0 in /Users/ghaliabennani/anaconda3/lib/python3.11/site-packages (from boto3>=1.9->dataflows-tabulator>=1.29->datapackage) (0.10.3)\r\n",
      "Requirement already satisfied: et-xmlfile in /Users/ghaliabennani/anaconda3/lib/python3.11/site-packages (from openpyxl>=2.6->dataflows-tabulator>=1.29->datapackage) (1.1.0)\r\n",
      "Requirement already satisfied: typing-extensions>=4.6.0 in /Users/ghaliabennani/anaconda3/lib/python3.11/site-packages (from sqlalchemy>=0.9.6->dataflows-tabulator>=1.29->datapackage) (4.11.0)\r\n",
      "Note: you may need to restart the kernel to use updated packages.\n"
     ]
    }
   ],
   "source": [
    "pip install datapackage"
   ],
   "metadata": {
    "collapsed": false,
    "ExecuteTime": {
     "end_time": "2024-11-13T21:13:56.246288Z",
     "start_time": "2024-11-13T21:13:54.358842Z"
    }
   },
   "id": "56d382fa3951a3ab"
  },
  {
   "cell_type": "markdown",
   "source": [
    "# Data Extraction Notebook"
   ],
   "metadata": {
    "collapsed": false
   },
   "id": "ce92439e20631187"
  },
  {
   "cell_type": "code",
   "execution_count": 5,
   "outputs": [
    {
     "data": {
      "text/plain": "<module 'utils' from '/Users/ghaliabennani/Desktop/ada-2024-project-ada212/utils.py'>"
     },
     "execution_count": 5,
     "metadata": {},
     "output_type": "execute_result"
    }
   ],
   "source": [
    "import pandas as pd\n",
    "from pathlib import Path\n",
    "import requests\n",
    "import tarfile\n",
    "from wikimapper import WikiMapper\n",
    "from datapackage import Package\n",
    "import numpy as np\n",
    "import utils\n",
    "from utils import *\n",
    "import importlib\n",
    "importlib.reload(utils)"
   ],
   "metadata": {
    "collapsed": false,
    "ExecuteTime": {
     "end_time": "2024-11-13T21:44:01.376482Z",
     "start_time": "2024-11-13T21:44:01.331161Z"
    }
   },
   "id": "b1b7434725b455bd"
  },
  {
   "cell_type": "markdown",
   "source": [
    "# CMU Dataset\n",
    "Here we fetch from the CMU website our movie dataset and we store it in the data directory."
   ],
   "metadata": {
    "collapsed": false
   },
   "id": "c80ef762d32de562"
  },
  {
   "cell_type": "code",
   "execution_count": 6,
   "outputs": [],
   "source": [
    "MOVIE_CMU_URL = \"http://www.cs.cmu.edu/~ark/personas/data/MovieSummaries.tar.gz\"\n",
    "response = requests.get(MOVIE_CMU_URL, stream=True)\n",
    "file = tarfile.open(fileobj=response.raw, mode=\"r|gz\")\n",
    "file.extractall(path='.')\n",
    "\n",
    "Path(\"MovieSummaries\").rename(\"data\")\n",
    "data_path = Path(\"data\")\n",
    "\n",
    "for file_name in [\"character.metadata.tsv\", \"name.clusters.txt\", \"plot_summaries.txt\", \"README.txt\", \"tvtropes.clusters.txt\"]:\n",
    "    file_path = data_path / file_name\n",
    "    if file_path.exists():\n",
    "        file_path.unlink()\n",
    "\n",
    "cmu_cols = [\"movie_wikipedia_id\", \"movie_freebase_id\", \"movie_title\", \"movie_release\", \"movie_revenue\", \"movie_runtime\", \"movie_languages\", \"movie_countries\", \"movie_genres\"]\n",
    "cmu_df = (pd.read_csv(\n",
    "    data_path / \"movie.metadata.tsv\",\n",
    "    sep=\"\\t\",\n",
    "    header=None,\n",
    "    names=cmu_cols,\n",
    "    usecols=[\"movie_wikipedia_id\", \"movie_title\", \"movie_release\", \"movie_revenue\", \"movie_runtime\",  \"movie_languages\", \"movie_countries\", \"movie_genres\"])\n",
    ".assign(\n",
    "    movie_release=lambda df: df.movie_release.astype(str).str.slice(0, 4).replace(\"nan\", pd.NA).astype(\"Int32\"),\n",
    ")\n",
    ")"
   ],
   "metadata": {
    "collapsed": false,
    "ExecuteTime": {
     "end_time": "2024-11-13T21:51:59.473706Z",
     "start_time": "2024-11-13T21:44:02.827432Z"
    }
   },
   "id": "9202231956b0fae0"
  },
  {
   "cell_type": "markdown",
   "source": [
    " # Wikipedia to Wikidata Ids\n",
    "The CMU dataset uses wikipedia ids. To link movies with books we need the movies' wikidata ids. This is what we do in the following cells"
   ],
   "metadata": {
    "collapsed": false
   },
   "id": "2cf2d26ecf2388e6"
  },
  {
   "cell_type": "code",
   "execution_count": 7,
   "outputs": [
    {
     "name": "stdout",
     "output_type": "stream",
     "text": [
      "2024-11-13 23:02:01,535 - wikimapper.download - INFO - Downloading [https://dumps.wikimedia.org/enwiki/latest/enwiki-latest-page.sql.gz] to [data/enwiki-latest-page.sql.gz]\r\n",
      "2024-11-13 23:09:55,436 - wikimapper.download - INFO - Downloading [https://dumps.wikimedia.org/enwiki/latest/enwiki-latest-page_props.sql.gz] to [data/enwiki-latest-page_props.sql.gz]\r\n",
      "2024-11-13 23:11:43,420 - wikimapper.download - INFO - Downloading [https://dumps.wikimedia.org/enwiki/latest/enwiki-latest-redirect.sql.gz] to [data/enwiki-latest-redirect.sql.gz]\r\n",
      "2024-11-13 23:12:27,661 - wikimapper.processor - INFO - Creating index for [enwiki-latest] in [data/index_enwiki-latest.db]\r\n",
      "2024-11-13 23:12:27,663 - wikimapper.processor - INFO - Parsing pages dump\r\n",
      "2024-11-13 23:14:30,873 - wikimapper.processor - INFO - Creating database index on 'wikipedia_title'\r\n",
      "2024-11-13 23:14:46,667 - wikimapper.processor - INFO - Parsing page properties dump\r\n",
      "2024-11-13 23:15:29,812 - wikimapper.processor - INFO - Parsing redirects dump\r\n",
      "2024-11-13 23:17:14,425 - wikimapper.processor - INFO - Creating database index on 'wikidata_id'\r\n"
     ]
    }
   ],
   "source": [
    "!wikimapper download enwiki-latest --dir data\n",
    "!wikimapper create enwiki-latest --dumpdir data --target data/index_enwiki-latest.db"
   ],
   "metadata": {
    "collapsed": false,
    "ExecuteTime": {
     "end_time": "2024-11-13T22:17:28.145444Z",
     "start_time": "2024-11-13T22:02:01.445126Z"
    }
   },
   "id": "89d0c03b9527dea7"
  },
  {
   "cell_type": "code",
   "execution_count": 8,
   "outputs": [],
   "source": [
    "#we put in our dataset the wikidata id corresponding to the wikipedia id we already have.\n",
    "mapper = WikiMapper(data_path / \"index_enwiki-latest.db\")\n",
    "cmu_df = (cmu_df.assign(\n",
    "    movie_wikidata_id = lambda x: x.movie_wikipedia_id.apply(\n",
    "        lambda wikipedia_id: mapper.wikipedia_id_to_id(wikipedia_id)\n",
    "    )\n",
    ")\n",
    "          .drop(columns=[\"movie_wikipedia_id\"])\n",
    "          )"
   ],
   "metadata": {
    "collapsed": false,
    "ExecuteTime": {
     "end_time": "2024-11-13T22:26:38.787410Z",
     "start_time": "2024-11-13T22:26:33.285830Z"
    }
   },
   "id": "72057078c4f6cdf4"
  },
  {
   "cell_type": "markdown",
   "source": [
    "# Books-Movies Pairs\n",
    "Now that we have the wikidata ids for the movies in our dataset we can identify the book adaptations in the wikidata database thanks to the SPARQL query in the following cell. We also extract the features of the corresponding books."
   ],
   "metadata": {
    "collapsed": false
   },
   "id": "915fdfc039bd24ee"
  },
  {
   "cell_type": "code",
   "execution_count": 9,
   "outputs": [
    {
     "name": "stderr",
     "output_type": "stream",
     "text": [
      "/var/folders/j1/j4l0ld1s6dz8kzf6ptph9n5w0000gn/T/ipykernel_99370/1133718669.py:59: UserWarning: Could not infer format, so each element will be parsed individually, falling back to `dateutil`. To ensure parsing is consistent and as-expected, please specify a format.\n",
      "  book_release = lambda x: pd.to_datetime(x.pubDateLabel, errors='coerce').dt.year.astype('Int64')\n"
     ]
    }
   ],
   "source": [
    "WIKI_DATA_SERVICE_URL = 'https://query.wikidata.org/sparql'\n",
    "query = '''\n",
    "SELECT DISTINCT ?movie ?book ?bookLabel ?authorLabel ?instanceOfLabel ?countryLabel ?pubDateLabel ?genreLabel ?awardLabel ?seriesLabel ?goodreadsLabel\n",
    "WHERE \n",
    "{\n",
    "  VALUES ?bookType { wd:Q47461344 wd:Q7725634 wd:Q571 wd:Q14406742 wd:Q21198342 wd:Q277759 }\n",
    "  VALUES ?movieType { wd:Q11424 wd:Q506240 }\n",
    "\n",
    "  ?book wdt:P31 ?bookType.\n",
    "  OPTIONAL {?book wdt:P50 ?author}\n",
    "  OPTIONAL {?book wdt:P31 ?instanceOf}\n",
    "  OPTIONAL {?book wdt:P495 ?country}\n",
    "  OPTIONAL {?book wdt:P577 ?pubDate}\n",
    "  OPTIONAL {?book wdt:P136 ?genre}\n",
    "  OPTIONAL {?book wdt:P166 ?award}\n",
    "  OPTIONAL {?book wdt:P179 ?series}\n",
    "  OPTIONAL {?book wdt:P8383 ?goodreads}\n",
    "\n",
    "  ?movie wdt:P31 ?movieType;          \n",
    "         wdt:P144 ?book.\n",
    "\n",
    "  SERVICE wikibase:label { bd:serviceParam wikibase:language \"[AUTO_LANGUAGE],en\". }\n",
    "}\n",
    "'''\n",
    "query_result = requests.get(WIKI_DATA_SERVICE_URL, params = {'format': 'json', 'query': query})\n",
    "wikidata_df =pd.DataFrame(query_result.json()['results']['bindings'])\n",
    "for column in wikidata_df.columns:\n",
    "    wikidata_df[column] = wikidata_df[column].apply(lambda x: x['value'] if isinstance(x, dict) and 'value' in x else x)\n",
    "\n",
    "def get_list(series: pd.Series) -> list:\n",
    "    return list(set(series.dropna().tolist()))\n",
    "\n",
    "def mode(x: pd.Series) -> pd.Series:\n",
    "    modes = x.mode()\n",
    "    if len(modes) > 0:\n",
    "        return modes.iloc[0]\n",
    "    return None\n",
    "\n",
    "categories = {\n",
    "    'fiction': {'novel', 'short novel', 'novella', 'serialized fiction', 'short story', 'war fiction', 'magic realist fiction', 'metafiction', 'science fiction', 'suspense in literature', 'horror novel', 'horror fiction', 'crime fiction', 'psychological thriller', 'speculative/fantastic fiction', 'adventure fiction', 'detective fiction', 'noir fiction', 'political novel', 'vampire fiction', 'dystopian fiction', 'social science fiction', 'techno-thriller', 'thriller', 'fantasy', 'Gothic novel', 'picaresque novel', 'mystery fiction', 'post-apocalyptic fiction', 'philosophical fiction', 'romantic fiction', 'Bildungsroman', 'roman à clef', 'comedy', 'black comedy'},\n",
    "    'non_fiction': {'nonfiction', 'memoir', 'autobiography', 'biographical novel', 'biography', 'essay'},\n",
    "    'children': {'children\\'s literature', 'children\\'s fiction', 'young adult fiction', 'children\\'s novel'},\n",
    "    'historical': {'historical fiction', 'historical novel'},\n",
    "    'drama': {'play', 'drama', 'tragedy'},\n",
    "    'anime': {'adventure anime and manga', 'drama anime and manga'},\n",
    "    'fantasy': {'magic realist fiction', 'fantasy', 'vampire fiction', 'fairy tale'},\n",
    "    'science_fiction': {'science fiction', 'dystopian fiction', 'social science fiction', 'techno-thriller', 'post-apocalyptic fiction'},\n",
    "    'horror': {'horror novel', 'horror fiction'},\n",
    "    'thriller': {'psychological thriller', 'thriller'},\n",
    "    'detective': {'detective fiction', 'noir fiction', 'mystery fiction', 'cloak and dagger novel'},\n",
    "    'satire': {'satire', 'satirical fiction', 'metafiction'},\n",
    "    'comedy': {'comedy', 'black comedy'},\n",
    "}\n",
    "\n",
    "wikidata_df = (wikidata_df\n",
    "               .assign(\n",
    "    movie_wikidata_id = lambda x: x.movie.str.split('/').str[-1],\n",
    "    book_wikidata_id = lambda x: x.book.str.split('/').str[-1],\n",
    "    book_release = lambda x: pd.to_datetime(x.pubDateLabel, errors='coerce').dt.year.astype('Int64')\n",
    ")\n",
    "               .groupby(['movie_wikidata_id', 'book_wikidata_id'])\n",
    "               .agg(\n",
    "    book_title = pd.NamedAgg(column='bookLabel', aggfunc=mode),\n",
    "    book_author = ('authorLabel', 'first'),\n",
    "    book_release = ('book_release', 'first'),\n",
    "    book_country = ('countryLabel', 'first'),\n",
    "    book_goodreads_id = ('goodreadsLabel', 'first'),\n",
    "    series = ('seriesLabel', 'first'),\n",
    "    instance_of = pd.NamedAgg(column='instanceOfLabel', aggfunc=get_list),\n",
    "    genre = pd.NamedAgg(column='genreLabel', aggfunc=get_list),\n",
    "    award = pd.NamedAgg(column='awardLabel', aggfunc=get_list)\n",
    ")\n",
    "               .assign(\n",
    "    book_part_of_series = lambda x: x.series.notnull().astype(int),\n",
    "    literary_work = lambda x: x.instance_of.apply(lambda y: 'literary work' in y).astype(int),\n",
    "    written_work = lambda x: x.instance_of.apply(lambda y: 'written work' in y).astype(int),\n",
    "    comic_book_seris = lambda x: x.instance_of.apply(lambda y: 'comic book series' in y).astype(int),\n",
    "    book_series = lambda x: x.instance_of.apply(lambda y: 'book series' in y).astype(int),\n",
    "    manga_series = lambda x: x.instance_of.apply(lambda y: 'manga series' in y).astype(int),\n",
    "    book_fiction = lambda x: x.genre.apply(lambda y: len(set(y).intersection(categories['fiction'])) > 0).astype(int),\n",
    "    book_non_fiction = lambda x: x.genre.apply(lambda y: len(set(y).intersection(categories['non_fiction'])) > 0).astype(int),\n",
    "    book_children = lambda x: x.genre.apply(lambda y: len(set(y).intersection(categories['children'])) > 0).astype(int),\n",
    "    book_historical = lambda x: x.genre.apply(lambda y: len(set(y).intersection(categories['historical'])) > 0).astype(int),\n",
    "    book_drama = lambda x: x.genre.apply(lambda y: len(set(y).intersection(categories['drama'])) > 0).astype(int),\n",
    "    book_anime = lambda x: x.genre.apply(lambda y: len(set(y).intersection(categories['anime'])) > 0).astype(int),\n",
    "    book_fantasy = lambda x: x.genre.apply(lambda y: len(set(y).intersection(categories['fantasy'])) > 0).astype(int),\n",
    "    book_science_fiction = lambda x: x.genre.apply(lambda y: len(set(y).intersection(categories['science_fiction'])) > 0).astype(int),\n",
    "    book_horror = lambda x: x.genre.apply(lambda y: len(set(y).intersection(categories['horror'])) > 0).astype(int),\n",
    "    book_thriller = lambda x: x.genre.apply(lambda y: len(set(y).intersection(categories['thriller'])) > 0).astype(int),\n",
    "    book_detective = lambda x: x.genre.apply(lambda y: len(set(y).intersection(categories['detective'])) > 0).astype(int),\n",
    "    book_satire = lambda x: x.genre.apply(lambda y: len(set(y).intersection(categories['satire'])) > 0).astype(int),\n",
    "    book_comedy = lambda x: x.genre.apply(lambda y: len(set(y).intersection(categories['comedy'])) > 0).astype(int),\n",
    "    book_won_price = lambda x: x.award.apply(lambda y: len(y) > 0).astype(int),\n",
    ")\n",
    "               .drop(['instance_of', 'genre', 'award', 'series'], axis=1)\n",
    "               .reset_index()\n",
    "               )"
   ],
   "metadata": {
    "collapsed": false,
    "ExecuteTime": {
     "end_time": "2024-11-13T22:27:14.266432Z",
     "start_time": "2024-11-13T22:26:43.792656Z"
    }
   },
   "id": "106bc04b9edccc55"
  },
  {
   "cell_type": "markdown",
   "source": [
    "# Book Dataset\n",
    "We create a book dataset still using the Wikidata Query Service."
   ],
   "metadata": {
    "collapsed": false
   },
   "id": "16e9a41863c02a12"
  },
  {
   "cell_type": "code",
   "execution_count": 10,
   "outputs": [],
   "source": [
    "import time\n",
    "WIKI_DATA_SERVICE_URL = 'https://query.wikidata.org/sparql'\n",
    "query = '''\n",
    "SELECT DISTINCT ?book\n",
    "WHERE \n",
    "{\n",
    "  VALUES ?bookType { wd:Q47461344 wd:Q7725634 wd:Q571 wd:Q14406742 wd:Q21198342 wd:Q277759 }\n",
    "  ?book wdt:P31 ?bookType.\n",
    "  SERVICE wikibase:label { bd:serviceParam wikibase:language \"[AUTO_LANGUAGE],en\". }\n",
    "}\n",
    "'''\n",
    "query_result = requests.get(WIKI_DATA_SERVICE_URL, params = {'format': 'json', 'query': query})\n",
    "book_df = pd.DataFrame(query_result.json()['results']['bindings'])\n",
    "for column in book_df.columns:\n",
    "    book_df[column] = book_df[column].apply(lambda x: x['value'] if isinstance(x, dict) and 'value' in x else x)\n",
    "book_ids = book_df.book.str.split('/').str[-1].tolist()\n",
    "\n",
    "def get_book_wikidata(ids, retries=5, backoff_factor=1):\n",
    "    book_ids = \" \".join([f\"wd:{id}\" for id in ids])\n",
    "    query = (\n",
    "            'SELECT DISTINCT ?movie ?book ?bookLabel ?authorLabel ?instanceOfLabel ?countryLabel '\n",
    "            '?pubDateLabel ?genreLabel ?awardLabel ?seriesLabel '\n",
    "            'WHERE { '\n",
    "            'VALUES ?book {' + book_ids + '} '\n",
    "                                          'OPTIONAL { ?book wdt:P31 ?instanceOf. } '\n",
    "                                          'OPTIONAL { ?book wdt:P136 ?genre. } '\n",
    "                                          'OPTIONAL { ?book wdt:P495 ?country. } '\n",
    "                                          'OPTIONAL { ?book wdt:P577 ?pubDate. } '\n",
    "                                          'OPTIONAL { ?book wdt:P166 ?award. } '\n",
    "                                          'OPTIONAL { ?book wdt:P179 ?series. } '\n",
    "                                          'OPTIONAL { ?book wdt:P50 ?author. } '\n",
    "                                          'OPTIONAL { ?movie wdt:P144 ?book. } '\n",
    "                                          'SERVICE wikibase:label { bd:serviceParam wikibase:language \"[AUTO_LANGUAGE],en\". } '\n",
    "                                          '}'\n",
    "    )\n",
    "\n",
    "    for attempt in range(retries):\n",
    "        query_result = requests.get(WIKI_DATA_SERVICE_URL, params={'format': 'json', 'query': query})\n",
    "\n",
    "        if query_result.status_code == 200:\n",
    "            try:\n",
    "                json_data = query_result.json()\n",
    "                df = pd.DataFrame(json_data['results']['bindings'])\n",
    "                for column in df.columns:\n",
    "                    df[column] = df[column].apply(lambda x: x.get('value') if isinstance(x, dict) else x)\n",
    "                return df\n",
    "            except ValueError as e:\n",
    "                print(\"Error decoding JSON:\", e)\n",
    "                return pd.DataFrame()  # Return an empty DataFrame if JSON error\n",
    "\n",
    "        elif query_result.status_code == 429:\n",
    "            # Exponential backoff\n",
    "            wait_time = backoff_factor * (2 ** attempt)\n",
    "            time.sleep(wait_time)\n",
    "        else:\n",
    "            print(f\"Request failed with status code {query_result.status_code}\")\n",
    "            return pd.DataFrame()  # Return empty DataFrame if other errors\n",
    "\n",
    "    print(\"Max retries reached.\")\n",
    "    return pd.DataFrame()  # Return an empty DataFrame in case of JSON error\n",
    "\n",
    "book_df_list = []\n",
    "for i in range(0, len(book_ids), 100):\n",
    "    book_df_list.append(get_book_wikidata(book_ids[i:i+100]))\n",
    "book_df = pd.concat(book_df_list)"
   ],
   "metadata": {
    "collapsed": false,
    "ExecuteTime": {
     "end_time": "2024-11-14T00:35:53.701896Z",
     "start_time": "2024-11-13T22:27:38.788346Z"
    }
   },
   "id": "e7edff5ac03810a1"
  },
  {
   "cell_type": "code",
   "execution_count": 11,
   "outputs": [],
   "source": [
    "book_df = (book_df\n",
    "           .assign(\n",
    "    book_wikidata_id = lambda x: x.book.str.split('/').str[-1],\n",
    "    book_release = lambda x: pd.to_datetime(x.pubDateLabel, errors='coerce').dt.year.astype('Int64')\n",
    ")\n",
    "           .groupby(['book_wikidata_id'])\n",
    "           .agg(\n",
    "    book_title = pd.NamedAgg(column='bookLabel', aggfunc=mode),\n",
    "    book_author = ('authorLabel', 'first'),\n",
    "    book_release = ('book_release', 'first'),\n",
    "    book_country = ('countryLabel', 'first'),\n",
    "    series = ('seriesLabel', 'first'),\n",
    "    instance_of = pd.NamedAgg(column='instanceOfLabel', aggfunc=get_list),\n",
    "    genre = pd.NamedAgg(column='genreLabel', aggfunc=get_list),\n",
    "    award = pd.NamedAgg(column='awardLabel', aggfunc=get_list)\n",
    ")\n",
    "           .assign(\n",
    "    book_part_of_series = lambda x: x.series.notnull().astype(int),\n",
    "    literary_work = lambda x: x.instance_of.apply(lambda y: 'literary work' in y).astype(int),\n",
    "    written_work = lambda x: x.instance_of.apply(lambda y: 'written work' in y).astype(int),\n",
    "    comic_book_seris = lambda x: x.instance_of.apply(lambda y: 'comic book series' in y).astype(int),\n",
    "    book_series = lambda x: x.instance_of.apply(lambda y: 'book series' in y).astype(int),\n",
    "    manga_series = lambda x: x.instance_of.apply(lambda y: 'manga series' in y).astype(int),\n",
    "    book_fiction = lambda x: x.genre.apply(lambda y: len(set(y).intersection(categories['fiction'])) > 0).astype(int),\n",
    "    book_non_fiction = lambda x: x.genre.apply(lambda y: len(set(y).intersection(categories['non_fiction'])) > 0).astype(int),\n",
    "    book_children = lambda x: x.genre.apply(lambda y: len(set(y).intersection(categories['children'])) > 0).astype(int),\n",
    "    book_historical = lambda x: x.genre.apply(lambda y: len(set(y).intersection(categories['historical'])) > 0).astype(int),\n",
    "    book_drama = lambda x: x.genre.apply(lambda y: len(set(y).intersection(categories['drama'])) > 0).astype(int),\n",
    "    book_anime = lambda x: x.genre.apply(lambda y: len(set(y).intersection(categories['anime'])) > 0).astype(int),\n",
    "    book_fantasy = lambda x: x.genre.apply(lambda y: len(set(y).intersection(categories['fantasy'])) > 0).astype(int),\n",
    "    book_science_fiction = lambda x: x.genre.apply(lambda y: len(set(y).intersection(categories['science_fiction'])) > 0).astype(int),\n",
    "    book_horror = lambda x: x.genre.apply(lambda y: len(set(y).intersection(categories['horror'])) > 0).astype(int),\n",
    "    book_thriller = lambda x: x.genre.apply(lambda y: len(set(y).intersection(categories['thriller'])) > 0).astype(int),\n",
    "    book_detective = lambda x: x.genre.apply(lambda y: len(set(y).intersection(categories['detective'])) > 0).astype(int),\n",
    "    book_satire = lambda x: x.genre.apply(lambda y: len(set(y).intersection(categories['satire'])) > 0).astype(int),\n",
    "    book_comedy = lambda x: x.genre.apply(lambda y: len(set(y).intersection(categories['comedy'])) > 0).astype(int),\n",
    "    book_won_price = lambda x: x.award.apply(lambda y: len(y) > 0).astype(int),\n",
    ")\n",
    "           .drop(['instance_of', 'genre', 'award', 'series'], axis=1)\n",
    "           .reset_index()\n",
    "           )"
   ],
   "metadata": {
    "collapsed": false,
    "ExecuteTime": {
     "end_time": "2024-11-14T05:11:13.977871Z",
     "start_time": "2024-11-14T05:10:31.113080Z"
    }
   },
   "id": "c08f8e0289c9f345"
  },
  {
   "cell_type": "markdown",
   "source": [
    "# Goodreads dataset\n",
    "We add some elements to our book dataset, we use a Kaggle dataset curated from Goodreads. We also take care of cleaning the format of the author name and the title."
   ],
   "metadata": {
    "collapsed": false
   },
   "id": "d89fb3e3cfd1f2c"
  },
  {
   "cell_type": "code",
   "execution_count": 12,
   "outputs": [
    {
     "name": "stdout",
     "output_type": "stream",
     "text": [
      "mkdir: /Users/ghaliabennani/.kaggle: File exists\r\n",
      "mv: kaggle.json: No such file or directory\r\n"
     ]
    }
   ],
   "source": [
    "! mkdir ~/.kaggle\n",
    "! mv kaggle.json ~/.kaggle/\n",
    "! chmod 600 ~/.kaggle/kaggle.json"
   ],
   "metadata": {
    "collapsed": false,
    "ExecuteTime": {
     "end_time": "2024-11-14T05:14:17.398581Z",
     "start_time": "2024-11-14T05:14:16.892660Z"
    }
   },
   "id": "a19589919eedde50"
  },
  {
   "cell_type": "code",
   "execution_count": 13,
   "outputs": [
    {
     "name": "stdout",
     "output_type": "stream",
     "text": [
      "Requirement already satisfied: kaggle in /Users/ghaliabennani/anaconda3/lib/python3.11/site-packages (1.6.17)\r\n",
      "Requirement already satisfied: six>=1.10 in /Users/ghaliabennani/anaconda3/lib/python3.11/site-packages (from kaggle) (1.16.0)\r\n",
      "Requirement already satisfied: certifi>=2023.7.22 in /Users/ghaliabennani/anaconda3/lib/python3.11/site-packages (from kaggle) (2024.8.30)\r\n",
      "Requirement already satisfied: python-dateutil in /Users/ghaliabennani/anaconda3/lib/python3.11/site-packages (from kaggle) (2.9.0.post0)\r\n",
      "Requirement already satisfied: requests in /Users/ghaliabennani/anaconda3/lib/python3.11/site-packages (from kaggle) (2.32.3)\r\n",
      "Requirement already satisfied: tqdm in /Users/ghaliabennani/anaconda3/lib/python3.11/site-packages (from kaggle) (4.66.5)\r\n",
      "Requirement already satisfied: python-slugify in /Users/ghaliabennani/anaconda3/lib/python3.11/site-packages (from kaggle) (5.0.2)\r\n",
      "Requirement already satisfied: urllib3 in /Users/ghaliabennani/anaconda3/lib/python3.11/site-packages (from kaggle) (2.2.2)\r\n",
      "Requirement already satisfied: bleach in /Users/ghaliabennani/anaconda3/lib/python3.11/site-packages (from kaggle) (4.1.0)\r\n",
      "Requirement already satisfied: packaging in /Users/ghaliabennani/anaconda3/lib/python3.11/site-packages (from bleach->kaggle) (24.1)\r\n",
      "Requirement already satisfied: webencodings in /Users/ghaliabennani/anaconda3/lib/python3.11/site-packages (from bleach->kaggle) (0.5.1)\r\n",
      "Requirement already satisfied: text-unidecode>=1.3 in /Users/ghaliabennani/anaconda3/lib/python3.11/site-packages (from python-slugify->kaggle) (1.3)\r\n",
      "Requirement already satisfied: charset-normalizer<4,>=2 in /Users/ghaliabennani/anaconda3/lib/python3.11/site-packages (from requests->kaggle) (3.3.2)\r\n",
      "Requirement already satisfied: idna<4,>=2.5 in /Users/ghaliabennani/anaconda3/lib/python3.11/site-packages (from requests->kaggle) (3.7)\r\n"
     ]
    }
   ],
   "source": [
    "!pip install kaggle"
   ],
   "metadata": {
    "collapsed": false,
    "ExecuteTime": {
     "end_time": "2024-11-14T05:14:27.675259Z",
     "start_time": "2024-11-14T05:14:25.166946Z"
    }
   },
   "id": "b4e6443d8e114850"
  },
  {
   "cell_type": "code",
   "execution_count": 0,
   "outputs": [],
   "source": [
    "!kaggle datasets download -d bahramjannesarr/goodreads-book-datasets-10m\n",
    "!unzip goodreads-book-datasets-10m.zip\n",
    "!rm goodreads-book-datasets-10m.zip\n",
    "!rm user_rating_*.csv\n",
    "!mkdir data/goodreads"
   ],
   "metadata": {
    "collapsed": false
   },
   "id": "60ebc2554c7fa4b1"
  },
  {
   "cell_type": "code",
   "execution_count": 15,
   "outputs": [],
   "source": [
    "\n",
    "!mv book*.csv data/goodreads/"
   ],
   "metadata": {
    "collapsed": false,
    "ExecuteTime": {
     "end_time": "2024-11-14T05:21:02.609007Z",
     "start_time": "2024-11-14T05:21:02.472334Z"
    }
   },
   "id": "3655da3bdf2e4df6"
  },
  {
   "cell_type": "code",
   "execution_count": 16,
   "outputs": [],
   "source": [
    "def clean_title(title_series: pd.Series) -> pd.Series:\n",
    "    return (title_series\n",
    "            .str.split('(').str[0]\n",
    "            .str.split(':').str[0]\n",
    "            .str.lower()\n",
    "            .str.replace('and', '&')\n",
    "            .str.replace('.', '')\n",
    "            .str.replace(\"'\", '')\n",
    "            .str.replace('-', ' ')\n",
    "            .str.replace(r'\\s+', ' ', regex=True)\n",
    "            .str.strip()\n",
    "            )\n",
    "\n",
    "def clean_author(author_series: pd.Series) -> pd.Series:\n",
    "    initial_letter = (author_series\n",
    "                      .str.strip()\n",
    "                      .str[0]\n",
    "                      .str.lower())\n",
    "    last_name = (author_series\n",
    "                 .str.split(r\"(\\s|-|')\", regex=True)\n",
    "                 .str[-1]\n",
    "                 .str.replace('.', '')\n",
    "                 .str.replace(\"'\", '')\n",
    "                 .str.replace(r'\\s+', ' ', regex=True)\n",
    "                 .str.strip()\n",
    "                 .str.lower()\n",
    "                 )\n",
    "    return initial_letter + \" \" + last_name"
   ],
   "metadata": {
    "collapsed": false,
    "ExecuteTime": {
     "end_time": "2024-11-14T05:21:13.171479Z",
     "start_time": "2024-11-14T05:21:13.165690Z"
    }
   },
   "id": "1ccd4eeb5ab2ed32"
  },
  {
   "cell_type": "code",
   "execution_count": 17,
   "outputs": [],
   "source": [
    "wikidata_df = wikidata_df.assign(\n",
    "    join_title = lambda x: clean_title(x.book_title),\n",
    "    join_author = lambda x: clean_author(x.book_author),\n",
    ")"
   ],
   "metadata": {
    "collapsed": false,
    "ExecuteTime": {
     "end_time": "2024-11-14T05:21:14.934955Z",
     "start_time": "2024-11-14T05:21:14.888891Z"
    }
   },
   "id": "89ec3dca62aa576c"
  },
  {
   "cell_type": "code",
   "execution_count": 18,
   "outputs": [],
   "source": [
    "book_df = book_df.assign(\n",
    "    join_title = lambda x: clean_title(x.book_title),\n",
    "    join_author = lambda x: clean_author(x.book_author),\n",
    ")   \n"
   ],
   "metadata": {
    "collapsed": false,
    "ExecuteTime": {
     "end_time": "2024-11-14T05:21:18.896846Z",
     "start_time": "2024-11-14T05:21:16.264813Z"
    }
   },
   "id": "69cf8b4dfe7036b9"
  },
  {
   "cell_type": "code",
   "execution_count": 20,
   "outputs": [],
   "source": [
    "df_list = []\n",
    "for file in data_path.glob('goodreads/book*.csv'):\n",
    "    try:\n",
    "        df = (pd.read_csv(\n",
    "            file,\n",
    "            usecols=['Name', 'Authors', 'Publisher', 'pagesNumber', 'Rating', 'RatingDistTotal']\n",
    "        )\n",
    "              .rename(columns={'pagesNumber': 'book_pages', 'RatingDistTotal': 'book_ratings_count', 'Rating': 'book_rating',\n",
    "                               'Publisher': 'book_publisher', 'Authors': 'book_author',\n",
    "                               'Name': 'book_title'})\n",
    "              )\n",
    "        df_list.append(df)\n",
    "    except:\n",
    "        df = (pd.read_csv(\n",
    "            file,\n",
    "            usecols=['Name', 'Authors', 'Publisher', 'PagesNumber', 'Rating', 'RatingDistTotal']\n",
    "        )\n",
    "              .rename(columns={'PagesNumber': 'book_pages', 'RatingDistTotal': 'book_ratings_count', 'Rating': 'book_rating',\n",
    "                               'Publisher': 'book_publisher', 'Authors': 'book_author',\n",
    "                               'Name': 'book_title'})\n",
    "              )\n",
    "        df_list.append(df)"
   ],
   "metadata": {
    "collapsed": false,
    "ExecuteTime": {
     "end_time": "2024-11-14T05:22:14.757170Z",
     "start_time": "2024-11-14T05:22:09.993088Z"
    }
   },
   "id": "13eaf547017d414c"
  },
  {
   "cell_type": "code",
   "execution_count": 21,
   "outputs": [],
   "source": [
    "goodreads_df = (pd.concat(df_list, ignore_index=True)\n",
    "                .assign(\n",
    "    book_rating = lambda x: x.book_rating.replace(0, np.nan),\n",
    "    book_pages = lambda x: x.book_pages.replace(0, np.nan).astype('Int64'),\n",
    "    book_ratings_count = lambda x: x.book_ratings_count.str.split(':').str[-1].astype('Int64'),\n",
    "    join_title = lambda x: clean_title(x.book_title),\n",
    "    join_author = lambda x: clean_author(x.book_author),\n",
    ")\n",
    "                .merge(\n",
    "    wikidata_df.loc[:, ['join_title', 'join_author']].drop_duplicates(),\n",
    "    on=['join_title', 'join_author'],\n",
    "    how='inner'\n",
    ")\n",
    "                .drop_duplicates(subset=['join_title', 'join_author'])\n",
    "                .drop(['book_title', 'book_author'], axis=1)\n",
    "                )"
   ],
   "metadata": {
    "collapsed": false,
    "ExecuteTime": {
     "end_time": "2024-11-14T05:22:42.581873Z",
     "start_time": "2024-11-14T05:22:30.338174Z"
    }
   },
   "id": "4b15172c98cac9d1"
  },
  {
   "cell_type": "markdown",
   "source": [
    "# More Revenues infomations with TMDB\n",
    "We have seen that there are a lot of missing values when it comes to movie revenues so we fetch some data from The Movie DataBase."
   ],
   "metadata": {
    "collapsed": false
   },
   "id": "81af13f632d5d4db"
  },
  {
   "cell_type": "code",
   "execution_count": 22,
   "outputs": [
    {
     "name": "stdout",
     "output_type": "stream",
     "text": [
      "Dataset URL: https://www.kaggle.com/datasets/rounakbanik/the-movies-dataset\r\n",
      "License(s): CC0-1.0\r\n",
      "Downloading the-movies-dataset.zip to /Users/ghaliabennani/Desktop/ada-2024-project-ada212\r\n",
      " 99%|███████████████████████████████████████▋| 226M/228M [00:08<00:00, 28.5MB/s]\r\n",
      "100%|████████████████████████████████████████| 228M/228M [00:08<00:00, 27.0MB/s]\r\n",
      "Archive:  the-movies-dataset.zip\r\n",
      "  inflating: credits.csv             \r\n",
      "  inflating: keywords.csv            \r\n",
      "  inflating: links.csv               \r\n",
      "  inflating: links_small.csv         \r\n",
      "  inflating: movies_metadata.csv     \r\n",
      "  inflating: ratings.csv             \r\n",
      "  inflating: ratings_small.csv       \r\n"
     ]
    }
   ],
   "source": [
    "!kaggle datasets download -d rounakbanik/the-movies-dataset\n",
    "!unzip the-movies-dataset.zip\n",
    "!rm the-movies-dataset.zip\n",
    "!mv movies_metadata.csv data/\n",
    "!rm credits.csv\n",
    "!rm keywords.csv\n",
    "!rm links.csv\n",
    "!rm links_small.csv\n",
    "!rm ratings.csv\n",
    "!rm ratings_small.csv"
   ],
   "metadata": {
    "collapsed": false,
    "ExecuteTime": {
     "end_time": "2024-11-14T05:23:01.509520Z",
     "start_time": "2024-11-14T05:22:44.856419Z"
    }
   },
   "id": "783fc6f8d82a8c36"
  },
  {
   "cell_type": "code",
   "execution_count": 23,
   "outputs": [
    {
     "name": "stderr",
     "output_type": "stream",
     "text": [
      "/var/folders/j1/j4l0ld1s6dz8kzf6ptph9n5w0000gn/T/ipykernel_99370/1954682421.py:5: DtypeWarning: Columns (10) have mixed types. Specify dtype option on import or set low_memory=False.\n",
      "  tmdb_df = (pd.read_csv(\"data/movies_metadata.csv\")\n"
     ]
    }
   ],
   "source": [
    "def replace_jpg(x):\n",
    "    return np.nan if isinstance(x, str) and x.endswith('.jpg') else x\n",
    "\n",
    "\n",
    "tmdb_df = (pd.read_csv(\"data/movies_metadata.csv\")\n",
    "           .assign(\n",
    "    movie_budget = lambda df: df.budget.apply(replace_jpg).astype(\"Int64\").replace(0, pd.NA),\n",
    "    movie_revenue_tmdb = lambda df: df.revenue.replace(0.0, pd.NA).astype(\"Int64\")\n",
    ")\n",
    "           .loc[:, ['imdb_id', 'movie_budget', 'movie_revenue_tmdb']]\n",
    "           .drop_duplicates(subset=['imdb_id'])\n",
    "           )"
   ],
   "metadata": {
    "collapsed": false,
    "ExecuteTime": {
     "end_time": "2024-11-14T05:23:32.272695Z",
     "start_time": "2024-11-14T05:23:31.891609Z"
    }
   },
   "id": "17d6d002288d488b"
  },
  {
   "cell_type": "markdown",
   "source": [
    "# Making Revenues and Budgets comparable\n",
    "A way to normalize the revenues and budget data and to make the values comparable across time we we adjust for inflation using the US Consumer Price."
   ],
   "metadata": {
    "collapsed": false
   },
   "id": "accaa1d60eabd741"
  },
  {
   "cell_type": "code",
   "execution_count": 25,
   "outputs": [],
   "source": [
    "\n",
    "cpi_df = (pd.read_csv(\"data/flat-ui__data-Thu Nov 14 2024.csv\")\n",
    "          .rename(columns={'Date': 'date', 'Index': 'cpi', 'Inflation': '_'})\n",
    "          .assign(\n",
    "    year = lambda df: df.date.astype(str).str.slice(0, 4).astype(\"Int32\"),\n",
    "    inflation_adjustment = lambda df: (df.cpi.iloc[-1] / df.cpi).astype(float)\n",
    ")\n",
    "          .drop(columns=['date', 'cpi', '_'])\n",
    "          .drop_duplicates(subset=['year'])\n",
    "          .reset_index(drop=True)\n",
    "          .assign(inflation_adjustment = lambda x: x.inflation_adjustment.astype(float))\n",
    "          )\n"
   ],
   "metadata": {
    "collapsed": false,
    "ExecuteTime": {
     "end_time": "2024-11-14T05:26:20.620383Z",
     "start_time": "2024-11-14T05:26:20.596910Z"
    }
   },
   "id": "9aba49707867388f"
  },
  {
   "cell_type": "markdown",
   "source": [
    "# IMDb ratings\n",
    "We extract the IMDb ratings for movies to know user's opinions on it. "
   ],
   "metadata": {
    "collapsed": false
   },
   "id": "2b3d6990174ec84d"
  },
  {
   "cell_type": "code",
   "execution_count": 26,
   "outputs": [
    {
     "name": "stdout",
     "output_type": "stream",
     "text": [
      "  % Total    % Received % Xferd  Average Speed   Time    Time     Time  Current\r\n",
      "                                 Dload  Upload   Total   Spent    Left  Speed\r\n",
      "100 7359k  100 7359k    0     0  8778k      0 --:--:-- --:--:-- --:--:-- 8771k\r\n",
      "rm: title.ratings.tsv.gz: No such file or directory\r\n"
     ]
    }
   ],
   "source": [
    "!curl -o title.ratings.tsv.gz https://datasets.imdbws.com/title.ratings.tsv.gz\n",
    "!gunzip title.ratings.tsv.gz\n",
    "!mv title.ratings.tsv data/\n",
    "!rm title.ratings.tsv.gz"
   ],
   "metadata": {
    "collapsed": false,
    "ExecuteTime": {
     "end_time": "2024-11-14T05:26:26.464340Z",
     "start_time": "2024-11-14T05:26:24.805266Z"
    }
   },
   "id": "4e98315786b1b06b"
  },
  {
   "cell_type": "code",
   "execution_count": 27,
   "outputs": [],
   "source": [
    "imdb_df = (pd.read_csv(\"data/title.ratings.tsv\", sep='\\t')\n",
    ".rename(columns={\n",
    "    'tconst': 'imdb_id',\n",
    "    'averageRating': 'imdb_rating',\n",
    "    'numVotes': 'imdb_total_votes'})\n",
    ")"
   ],
   "metadata": {
    "collapsed": false,
    "ExecuteTime": {
     "end_time": "2024-11-14T05:26:30.037049Z",
     "start_time": "2024-11-14T05:26:29.609006Z"
    }
   },
   "id": "5b4b775e4ee2918b"
  },
  {
   "cell_type": "code",
   "execution_count": 28,
   "outputs": [],
   "source": [
    "query = '''\n",
    "SELECT ?movie ?IMDB_ID\n",
    "WHERE\n",
    "{\n",
    "VALUES ?movieType { wd:Q11424 wd:Q506240 }\n",
    "?movie wdt:P31 ?movieType.\n",
    "?movie wdt:P345 ?IMDB_ID.\n",
    "\n",
    "SERVICE wikibase:label { bd:serviceParam wikibase:language \"[AUTO_LANGUAGE],en\". }\n",
    "}\n",
    "'''\n",
    "query_result = requests.get(WIKI_DATA_SERVICE_URL, params = {'format': 'json', 'query': query})\n",
    "wikidata_imdb_df =pd.DataFrame(query_result.json()['results']['bindings'])\n",
    "for column in wikidata_imdb_df.columns:\n",
    "    wikidata_imdb_df[column] = wikidata_imdb_df[column].apply(lambda x: x['value'] if isinstance(x, dict) and 'value' in x else x)"
   ],
   "metadata": {
    "collapsed": false,
    "ExecuteTime": {
     "end_time": "2024-11-14T05:26:43.232307Z",
     "start_time": "2024-11-14T05:26:32.214191Z"
    }
   },
   "id": "9070cdf500109775"
  },
  {
   "cell_type": "code",
   "execution_count": 29,
   "outputs": [],
   "source": [
    "wikidata_imdb_df = (wikidata_imdb_df\n",
    "                    .assign(\n",
    "    movie_wikidata_id = lambda x: x.movie.str.split('/').str[-1],\n",
    "    imdb_id = lambda x: x.IMDB_ID\n",
    ")\n",
    "                    .loc[:, ['movie_wikidata_id', 'imdb_id']]\n",
    "                    )\n"
   ],
   "metadata": {
    "collapsed": false,
    "ExecuteTime": {
     "end_time": "2024-11-14T05:26:45.090638Z",
     "start_time": "2024-11-14T05:26:44.700364Z"
    }
   },
   "id": "293055a387f5ff89"
  },
  {
   "cell_type": "markdown",
   "source": [
    "# Merging the datasets"
   ],
   "metadata": {
    "collapsed": false
   },
   "id": "10e42a7da83c5d0"
  },
  {
   "cell_type": "code",
   "execution_count": 30,
   "outputs": [],
   "source": [
    "book_adaptation_df = (cmu_df\n",
    "                      .merge(wikidata_imdb_df, on='movie_wikidata_id', how='left')\n",
    "                      .merge(imdb_df, on='imdb_id', how='left')\n",
    "                      .merge(tmdb_df, on='imdb_id', how='left')\n",
    "                      .merge(wikidata_df, on='movie_wikidata_id', how='left')\n",
    "                      .merge(goodreads_df, on=['join_title', 'join_author'], how='left')\n",
    "                      .merge(cpi_df, left_on='movie_release', right_on='year', how='left')\n",
    "                      .assign(\n",
    "    movie_budget = lambda x: x.movie_budget.astype(float),\n",
    "    movie_revenue = lambda x: x.movie_revenue.fillna(x.movie_revenue_tmdb).astype(float),\n",
    "    movie_is_adaptation = lambda x: x.book_wikidata_id.notna()\n",
    ")\n",
    "                      .assign(\n",
    "    movie_budget = lambda df: df.movie_budget * df.inflation_adjustment,\n",
    "    movie_revenue = lambda df: df.movie_revenue * df.inflation_adjustment\n",
    ")\n",
    "                      .drop(columns=['imdb_id', 'movie_revenue_tmdb', 'book_goodreads_id',\n",
    "                                     'year', 'inflation_adjustment', 'join_title', 'join_author'])\n",
    "                      )"
   ],
   "metadata": {
    "collapsed": false,
    "ExecuteTime": {
     "end_time": "2024-11-14T05:26:59.070437Z",
     "start_time": "2024-11-14T05:26:58.586436Z"
    }
   },
   "id": "4a280dcd98ce8803"
  },
  {
   "cell_type": "code",
   "execution_count": 37,
   "outputs": [],
   "source": [
    "book_adaptation_df.to_csv(\"data/book_adaptation.csv\", index=False)"
   ],
   "metadata": {
    "collapsed": false,
    "ExecuteTime": {
     "end_time": "2024-11-14T05:28:30.692480Z",
     "start_time": "2024-11-14T05:28:30.045155Z"
    }
   },
   "id": "cba945677032b5be"
  },
  {
   "cell_type": "code",
   "execution_count": 38,
   "outputs": [],
   "source": [
    "(book_df\n",
    " .merge(goodreads_df, on=['join_title', 'join_author'], how='inner')\n",
    " .drop(columns=['join_title', 'join_author'])\n",
    " .to_csv(\"book.csv\", index=False)\n",
    " )"
   ],
   "metadata": {
    "collapsed": false,
    "ExecuteTime": {
     "end_time": "2024-11-14T07:00:57.505478Z",
     "start_time": "2024-11-14T07:00:57.264976Z"
    }
   },
   "id": "901fb682794fd46c"
  },
  {
   "cell_type": "markdown",
   "source": [
    "# Dealing with missing revenue and budget data\n",
    "During the data cleaning process, we found out that there are too much missing values for the movies revenues and budget so we decided to extract some more data about it from the wikidata database."
   ],
   "metadata": {
    "collapsed": false
   },
   "id": "1a33448ca848a646"
  },
  {
   "cell_type": "code",
   "execution_count": 39,
   "outputs": [],
   "source": [
    "WIKI_DATA_SERVICE_URL = 'https://query.wikidata.org/sparql'\n",
    "\n",
    "def get_movie_budget_revenue(ids, retries=5, backoff_factor=1):\n",
    "    movie_ids = \" \".join([f\"wd:{id}\" for id in ids])\n",
    "    query = (\n",
    "            'SELECT ?movie ?movieLabel ?budget ?revenue WHERE { '\n",
    "            'VALUES ?movie { ' + movie_ids + ' } '  # Make sure movie_ids is correctly formatted\n",
    "                                             '?movie wdt:P31 wd:Q11424. '\n",
    "                                             'OPTIONAL { ?movie wdt:P2130 ?budget. } '  # Budget property\n",
    "                                             'OPTIONAL { ?movie wdt:P2142 ?revenue. } '  # Revenue property\n",
    "                                             'SERVICE wikibase:label { bd:serviceParam wikibase:language \"[AUTO_LANGUAGE],en\". } '\n",
    "                                             '}'\n",
    "    )\n",
    "\n",
    "    for attempt in range(retries):\n",
    "        query_result = requests.get(WIKI_DATA_SERVICE_URL, params={'format': 'json', 'query': query})\n",
    "\n",
    "        if query_result.status_code == 200:\n",
    "            try:\n",
    "                json_data = query_result.json()\n",
    "                df = pd.DataFrame(json_data['results']['bindings'])\n",
    "                for column in df.columns:\n",
    "                    df[column] = df[column].apply(lambda x: x.get('value') if isinstance(x, dict) else x)\n",
    "                return df\n",
    "            except ValueError as e:\n",
    "                print(\"Error decoding JSON:\", e)\n",
    "                return pd.DataFrame()  # Return an empty DataFrame if JSON error\n",
    "\n",
    "        elif query_result.status_code == 429:\n",
    "            # Exponential backoff\n",
    "            wait_time = backoff_factor * (2 ** attempt)\n",
    "            time.sleep(wait_time)\n",
    "        else:\n",
    "            print(f\"Request failed with status code {query_result.status_code}\")\n",
    "            return pd.DataFrame()  # Return empty DataFrame if other errors\n",
    "\n",
    "    print(\"Max retries reached.\")\n",
    "    return pd.DataFrame()  # Return an empty DataFrame in case of JSON error"
   ],
   "metadata": {
    "collapsed": false,
    "ExecuteTime": {
     "end_time": "2024-11-14T07:01:12.657947Z",
     "start_time": "2024-11-14T07:01:12.637638Z"
    }
   },
   "id": "e8b4d9ef192c9b55"
  },
  {
   "cell_type": "code",
   "execution_count": 40,
   "outputs": [],
   "source": [
    "\n",
    "movie_df_list = []\n",
    "for i in range(0, len(book_adaptation_df), 100):\n",
    "    ids = book_adaptation_df['movie_wikidata_id'][i:i+100]\n",
    "    movie_df_list.append(get_movie_budget_revenue(ids))\n",
    "movie_rev_budget = pd.concat(movie_df_list)\n"
   ],
   "metadata": {
    "collapsed": false,
    "ExecuteTime": {
     "end_time": "2024-11-14T07:25:03.928419Z",
     "start_time": "2024-11-14T07:02:25.800972Z"
    }
   },
   "id": "740a49c994124cd3"
  },
  {
   "cell_type": "code",
   "execution_count": 41,
   "outputs": [],
   "source": [
    "movie_rev_budget.to_csv(\"wikidata_query_rev_bud.csv\", index=False)"
   ],
   "metadata": {
    "collapsed": false,
    "ExecuteTime": {
     "end_time": "2024-11-14T07:28:35.712476Z",
     "start_time": "2024-11-14T07:28:35.619349Z"
    }
   },
   "id": "ddeb3dd13867df6"
  },
  {
   "cell_type": "code",
   "execution_count": 42,
   "outputs": [
    {
     "name": "stdout",
     "output_type": "stream",
     "text": [
      "66792\n"
     ]
    }
   ],
   "source": [
    "print(len(movie_rev_budget))"
   ],
   "metadata": {
    "collapsed": false,
    "ExecuteTime": {
     "end_time": "2024-11-14T07:31:26.705596Z",
     "start_time": "2024-11-14T07:31:26.694126Z"
    }
   },
   "id": "d35600c8cf7c39cf"
  },
  {
   "cell_type": "code",
   "execution_count": 43,
   "outputs": [
    {
     "name": "stdout",
     "output_type": "stream",
     "text": [
      "4283\n"
     ]
    }
   ],
   "source": [
    "print(len(book_adaptation_df[book_adaptation_df[\"movie_wikidata_id\"].isna()]))"
   ],
   "metadata": {
    "collapsed": false,
    "ExecuteTime": {
     "end_time": "2024-11-14T07:35:22.079465Z",
     "start_time": "2024-11-14T07:35:22.066788Z"
    }
   },
   "id": "fd28e58b5e69e4bb"
  },
  {
   "cell_type": "code",
   "execution_count": 196,
   "outputs": [
    {
     "data": {
      "text/plain": "  movie_wikidata_id                   movieLabel movie_budget movie_revenue\n0           Q194106         The City of the Dead          NaN           NaN\n1           Q226193          33 Scenes from Life          NaN           NaN\n2           Q245205          The Thirteen Chairs          NaN           NaN\n3           Q531827                  The Fiances          NaN           NaN\n4           Q535500  Kinjite: Forbidden Subjects          NaN           NaN",
      "text/html": "<div>\n<style scoped>\n    .dataframe tbody tr th:only-of-type {\n        vertical-align: middle;\n    }\n\n    .dataframe tbody tr th {\n        vertical-align: top;\n    }\n\n    .dataframe thead th {\n        text-align: right;\n    }\n</style>\n<table border=\"1\" class=\"dataframe\">\n  <thead>\n    <tr style=\"text-align: right;\">\n      <th></th>\n      <th>movie_wikidata_id</th>\n      <th>movieLabel</th>\n      <th>movie_budget</th>\n      <th>movie_revenue</th>\n    </tr>\n  </thead>\n  <tbody>\n    <tr>\n      <th>0</th>\n      <td>Q194106</td>\n      <td>The City of the Dead</td>\n      <td>NaN</td>\n      <td>NaN</td>\n    </tr>\n    <tr>\n      <th>1</th>\n      <td>Q226193</td>\n      <td>33 Scenes from Life</td>\n      <td>NaN</td>\n      <td>NaN</td>\n    </tr>\n    <tr>\n      <th>2</th>\n      <td>Q245205</td>\n      <td>The Thirteen Chairs</td>\n      <td>NaN</td>\n      <td>NaN</td>\n    </tr>\n    <tr>\n      <th>3</th>\n      <td>Q531827</td>\n      <td>The Fiances</td>\n      <td>NaN</td>\n      <td>NaN</td>\n    </tr>\n    <tr>\n      <th>4</th>\n      <td>Q535500</td>\n      <td>Kinjite: Forbidden Subjects</td>\n      <td>NaN</td>\n      <td>NaN</td>\n    </tr>\n  </tbody>\n</table>\n</div>"
     },
     "execution_count": 196,
     "metadata": {},
     "output_type": "execute_result"
    }
   ],
   "source": [
    "movie_rev_budget['movie'] = movie_rev_budget['movie'].str.replace('http://www.wikidata.org/entity/', '', regex=False)\n",
    "# Remove the URL prefix to keep only the ID\n",
    "movie_rev_budget = movie_rev_budget.rename(columns={'movie': 'movie_wikidata_id'})\n",
    "movie_rev_budget = movie_rev_budget.rename(columns={'budget': 'movie_budget'})\n",
    "movie_rev_budget = movie_rev_budget.rename(columns={'revenue': 'movie_revenue'})\n",
    "\n",
    "\n",
    "movie_rev_budget.head()"
   ],
   "metadata": {
    "collapsed": false,
    "ExecuteTime": {
     "end_time": "2024-11-12T12:33:40.536696Z",
     "start_time": "2024-11-12T12:33:40.510761Z"
    }
   },
   "id": "182ab2060e08c59"
  },
  {
   "cell_type": "code",
   "execution_count": 232,
   "outputs": [],
   "source": [
    "books_and_movies = pd.merge(book_adaptation_df, movie_rev_budget[['movie_wikidata_id', 'movie_budget', 'movie_revenue']], on='movie_wikidata_id', suffixes=('', '_df2'))\n",
    "books_and_movies['movie_revenue'] = books_and_movies['movie_revenue'].combine_first(books_and_movies['movie_revenue_df2'])\n",
    "books_and_movies['movie_budget'] = books_and_movies['movie_budget'].combine_first(books_and_movies['movie_budget_df2'])\n",
    "\n",
    "books_and_movies= books_and_movies.drop(columns=['movie_revenue_df2', 'movie_budget_df2'])"
   ],
   "metadata": {
    "collapsed": false,
    "ExecuteTime": {
     "end_time": "2024-11-12T13:06:02.416918Z",
     "start_time": "2024-11-12T13:06:02.267690Z"
    }
   },
   "id": "cca3a10b2ce4ef48"
  },
  {
   "cell_type": "code",
   "execution_count": 1,
   "outputs": [
    {
     "ename": "NameError",
     "evalue": "name 'books_and_movies' is not defined",
     "output_type": "error",
     "traceback": [
      "\u001B[0;31m---------------------------------------------------------------------------\u001B[0m",
      "\u001B[0;31mNameError\u001B[0m                                 Traceback (most recent call last)",
      "Cell \u001B[0;32mIn[1], line 1\u001B[0m\n\u001B[0;32m----> 1\u001B[0m \u001B[38;5;28mprint\u001B[39m(books_and_movies)\u001B[38;5;241m.\u001B[39mlen()\n",
      "\u001B[0;31mNameError\u001B[0m: name 'books_and_movies' is not defined"
     ]
    }
   ],
   "source": [
    "print(books_and_movies).len()"
   ],
   "metadata": {
    "collapsed": false,
    "ExecuteTime": {
     "end_time": "2024-11-13T13:32:48.449256Z",
     "start_time": "2024-11-13T13:32:48.234479Z"
    }
   },
   "id": "f8ab5b8f68536d14"
  },
  {
   "cell_type": "code",
   "execution_count": 235,
   "outputs": [],
   "source": [
    "books_and_movies.to_csv(\"books_and_movies.csv\", index=False)"
   ],
   "metadata": {
    "collapsed": false,
    "ExecuteTime": {
     "end_time": "2024-11-12T13:06:06.445771Z",
     "start_time": "2024-11-12T13:06:05.909758Z"
    }
   },
   "id": "6b7882745e14f975"
  }
 ],
 "metadata": {
  "kernelspec": {
   "display_name": "Python 3",
   "language": "python",
   "name": "python3"
  },
  "language_info": {
   "codemirror_mode": {
    "name": "ipython",
    "version": 2
   },
   "file_extension": ".py",
   "mimetype": "text/x-python",
   "name": "python",
   "nbconvert_exporter": "python",
   "pygments_lexer": "ipython2",
   "version": "2.7.6"
  }
 },
 "nbformat": 4,
 "nbformat_minor": 5
}
