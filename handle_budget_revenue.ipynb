{
 "cells": [
  {
   "cell_type": "code",
   "execution_count": 4,
   "id": "initial_id",
   "metadata": {
    "collapsed": true,
    "ExecuteTime": {
     "end_time": "2024-11-11T13:58:17.408984Z",
     "start_time": "2024-11-11T13:58:17.113806Z"
    }
   },
   "outputs": [],
   "source": [
    "import pandas as pd\n",
    "from pathlib import Path\n",
    "import requests\n",
    "import tarfile\n",
    "from wikimapper import WikiMapper\n",
    "from datapackage import Package\n",
    "import numpy as np"
   ]
  },
  {
   "cell_type": "code",
   "execution_count": 3,
   "outputs": [],
   "source": [
    "dataset = pd.read_csv('book_adaptation.csv')\n"
   ],
   "metadata": {
    "collapsed": false,
    "ExecuteTime": {
     "end_time": "2024-11-11T13:57:52.377779Z",
     "start_time": "2024-11-11T13:57:52.154741Z"
    }
   },
   "id": "df195b6fc0b9ab54"
  },
  {
   "cell_type": "code",
   "execution_count": null,
   "outputs": [],
   "source": [
    "\n",
    "\n",
    "SELECT ?movie ?movieLabel ?budget ?revenue WHERE {\n",
    "?movie wdt:P31 wd:Q11424.\n",
    "OPTIONAL { ?movie wdt:P2130 ?budget. }\n",
    "OPTIONAL { ?movie wdt:P2142 ?revenue. }\n",
    "SERVICE wikibase:label { bd:serviceParam wikibase:language \"[AUTO_LANGUAGE],en\". }\n",
    "}\n"
   ],
   "metadata": {
    "collapsed": false
   },
   "id": "b587a31a3dbb776b"
  }
 ],
 "metadata": {
  "kernelspec": {
   "display_name": "Python 3",
   "language": "python",
   "name": "python3"
  },
  "language_info": {
   "codemirror_mode": {
    "name": "ipython",
    "version": 2
   },
   "file_extension": ".py",
   "mimetype": "text/x-python",
   "name": "python",
   "nbconvert_exporter": "python",
   "pygments_lexer": "ipython2",
   "version": "2.7.6"
  }
 },
 "nbformat": 4,
 "nbformat_minor": 5
}
