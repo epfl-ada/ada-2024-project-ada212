{
 "cells": [
  {
   "cell_type": "markdown",
   "metadata": {},
   "source": [
    "# From Page to Screen – The Journey and Success of Book Adaptations"
   ]
  },
  {
   "cell_type": "markdown",
   "metadata": {},
   "source": [
    "# The Origins: What Books Capture the Attention of Filmmakers?\n",
    "\n",
    "## Research Question: What traits in books make them attractive for adaptation?\n",
    "    This sets the stage for understanding why certain books make the cut, hinting at industry preferences.\n",
    "\n",
    "Analysis and approaches:\n",
    "Start by exploring the dataset for common characteristics among adapted books (e.g., genre, length, ratings).\n",
    "Use correlation analysis to identify book features (e.g., ratings, page count) that correlate with being chosen for adaptation.\n",
    "Use a Random Forest Regressor to determine which features of the book (e.g., page count, genre, ratings) are most important in predicting movie success.\n",
    "Implement a logistic regression to predict whether a book will result in a successful movie adaptation (using a threshold, such as revenue above a median value or IMDb rating above a certain score).\n",
    "\n"
   ]
  },
  {
   "cell_type": "markdown",
   "metadata": {},
   "source": [
    "# The Path to Adaptation: What Factors Influence Adaptation Time?\n",
    "\n",
    "## Research Question: How long does it take for a popular book to become a movie, and what influences this timeline?\n",
    "    This analysis builds the narrative of how long it typically takes for a book to make its way to the big screen and what accelerates or delays this process.\n",
    "Analysis and approaches:\n",
    "Use Kaplan-Meier estimators to visualize the “survival” rate of books over time i.e., how likely they are to be adapted within certain time frames.\n",
    "\t\n"
   ]
  },
  {
   "cell_type": "markdown",
   "metadata": {},
   "source": [
    "# The Grand Premiere: Measuring the Success of Adaptations\n",
    "\n",
    "## Research Question: What elements predict the success of a movie adaptation?\n",
    "    This section reveals the results of a book-to-movie transformation and what predicts box office hits or critical duds.\n",
    "\n",
    "Analysis and approaches:\n",
    "Model the relationship between book characteristics (e.g., genre, ratings) and movie success metrics (e.g., box office revenue, IMDb rating). For instance, using correlational analysis between Goodreads ratings and movie performance metrics.\n",
    "Compare movie adaptations with original movies to see which type tends to perform better.\n",
    "\n",
    "## Sub Research Question: What is the impact of the author’s renown on the movie adaptation’s performance?\n",
    "Analysis and Approaches: \n",
    "Descriptive statistics and t-tests to compare revenue and IMDb ratings.\n"
   ]
  },
  {
   "cell_type": "markdown",
   "metadata": {},
   "source": [
    "# The Global Reception: Do Adaptations Translate Well Across Borders?\n",
    "\n",
    "## Research Question: How do movie adaptations perform internationally, and are adaptations from certain countries more successful?\n",
    "    This part of the story focuses on how adaptations are received globally, adding depth to the idea of international market success.\n",
    "\n",
    "Analysis and approaches:\n",
    "Create maps showing the performance of adaptations by country.\n",
    "Use audience review data to assess how adaptations are received in different parts of the world.\n"
   ]
  },
  {
   "cell_type": "markdown",
   "metadata": {},
   "source": [
    "# The Budget and Investment Dilemma: Does Spending More Pay Off?\n",
    "\n",
    "## Research Question: Is there a direct correlation between the budget of an adaptation and its financial and critical success?\n",
    "    This section emphasizes the financial aspect of adaptations, discussing when investment leads to success and when it may not.\n",
    "\n",
    "Analysis and approaches:\n",
    "Use scatter plots and regression models to show if a larger budget leads to higher revenue and better ratings.\n",
    "\n",
    "Calculate ROI and visualize the distribution to identify budget “sweet spots” where adaptations achieve the best returns.\n",
    "ROI= Revenue−Budget/Budget and visualize with kernel density plots."
   ]
  },
  {
   "cell_type": "markdown",
   "metadata": {},
   "source": []
  }
 ],
 "metadata": {
  "language_info": {
   "name": "python"
  }
 },
 "nbformat": 4,
 "nbformat_minor": 2
}
